{
  "cells": [
    {
      "cell_type": "markdown",
      "metadata": {
        "id": "view-in-github",
        "colab_type": "text"
      },
      "source": [
        "<a href=\"https://colab.research.google.com/github/KANEKO-Tomoki/geoanalytics/blob/main/s1300113/LunarDataAnalytics_s1300113.ipynb\" target=\"_parent\"><img src=\"https://colab.research.google.com/assets/colab-badge.svg\" alt=\"Open In Colab\"/></a>"
      ]
    },
    {
      "cell_type": "markdown",
      "metadata": {
        "id": "BGU2dcnv6-2r"
      },
      "source": [
        "# Installing Necessary Ubuntu packages"
      ]
    },
    {
      "cell_type": "code",
      "execution_count": 9,
      "metadata": {
        "colab": {
          "base_uri": "https://localhost:8080/"
        },
        "id": "mCfMCrej7G8f",
        "outputId": "01066d9e-60a3-482d-c357-1efe1fb24319"
      },
      "outputs": [
        {
          "output_type": "stream",
          "name": "stdout",
          "text": [
            "\u001b[33m\r0% [Working]\u001b[0m\r            \rHit:1 https://cloud.r-project.org/bin/linux/ubuntu jammy-cran40/ InRelease\n",
            "\u001b[33m\r0% [Waiting for headers] [Waiting for headers] [Waiting for headers] [Waiting f\u001b[0m\r                                                                               \rHit:2 https://developer.download.nvidia.com/compute/cuda/repos/ubuntu2204/x86_64  InRelease\n",
            "\u001b[33m\r0% [Waiting for headers] [Waiting for headers] [Waiting for headers] [Connected\u001b[0m\r                                                                               \rHit:3 https://r2u.stat.illinois.edu/ubuntu jammy InRelease\n",
            "Hit:4 http://security.ubuntu.com/ubuntu jammy-security InRelease\n",
            "Hit:5 https://ppa.launchpadcontent.net/deadsnakes/ppa/ubuntu jammy InRelease\n",
            "Hit:6 https://ppa.launchpadcontent.net/graphics-drivers/ppa/ubuntu jammy InRelease\n",
            "Hit:7 https://ppa.launchpadcontent.net/ubuntugis/ppa/ubuntu jammy InRelease\n",
            "Hit:8 http://archive.ubuntu.com/ubuntu jammy InRelease\n",
            "Hit:9 http://archive.ubuntu.com/ubuntu jammy-updates InRelease\n",
            "Hit:10 http://archive.ubuntu.com/ubuntu jammy-backports InRelease\n",
            "Reading package lists... Done\n",
            "Building dependency tree... Done\n",
            "Reading state information... Done\n",
            "34 packages can be upgraded. Run 'apt list --upgradable' to see them.\n",
            "\u001b[1;33mW: \u001b[0mSkipping acquire of configured file 'main/source/Sources' as repository 'https://r2u.stat.illinois.edu/ubuntu jammy InRelease' does not seem to provide it (sources.list entry misspelt?)\u001b[0m\n",
            "Reading package lists... Done\n",
            "Building dependency tree... Done\n",
            "Reading state information... Done\n",
            "cdo is already the newest version (2.0.4-1).\n",
            "nco is already the newest version (5.0.6-1).\n",
            "gdal-bin is already the newest version (3.8.4+dfsg-1~jammy0).\n",
            "0 upgraded, 0 newly installed, 0 to remove and 34 not upgraded.\n",
            "/usr/bin/ncrename\n",
            "/usr/bin/cdo\n",
            "/usr/bin/gdal_translate\n"
          ]
        }
      ],
      "source": [
        "# Installing necessary modules\n",
        "!apt update\n",
        "!apt install -y nco cdo gdal-bin\n",
        "!which ncrename\n",
        "!which cdo\n",
        "!which gdal_translate"
      ]
    },
    {
      "cell_type": "markdown",
      "metadata": {
        "id": "n3EG0vsS7Mgi"
      },
      "source": [
        "# Installing geoAnalytics package"
      ]
    },
    {
      "cell_type": "code",
      "execution_count": 10,
      "metadata": {
        "colab": {
          "base_uri": "https://localhost:8080/"
        },
        "id": "VI1IkRyV7Ojg",
        "outputId": "f90b83ee-2301-400c-999e-603c92a05a50"
      },
      "outputs": [
        {
          "output_type": "stream",
          "name": "stdout",
          "text": [
            "Requirement already satisfied: geoanalytics in /usr/local/lib/python3.11/dist-packages (2025.6.12.3)\n",
            "Requirement already satisfied: psutil in /usr/local/lib/python3.11/dist-packages (from geoanalytics) (5.9.5)\n",
            "Requirement already satisfied: pandas in /usr/local/lib/python3.11/dist-packages (from geoanalytics) (2.2.2)\n",
            "Requirement already satisfied: matplotlib in /usr/local/lib/python3.11/dist-packages (from geoanalytics) (3.10.0)\n",
            "Requirement already satisfied: resource in /usr/local/lib/python3.11/dist-packages (from geoanalytics) (0.2.1)\n",
            "Requirement already satisfied: validators in /usr/local/lib/python3.11/dist-packages (from geoanalytics) (0.35.0)\n",
            "Requirement already satisfied: urllib3 in /usr/local/lib/python3.11/dist-packages (from geoanalytics) (2.4.0)\n",
            "Requirement already satisfied: psycopg2-binary in /usr/local/lib/python3.11/dist-packages (from geoanalytics) (2.9.10)\n",
            "Requirement already satisfied: shapely in /usr/local/lib/python3.11/dist-packages (from geoanalytics) (2.1.1)\n",
            "Requirement already satisfied: tqdm in /usr/local/lib/python3.11/dist-packages (from geoanalytics) (4.67.1)\n",
            "Requirement already satisfied: mplcursors in /usr/local/lib/python3.11/dist-packages (from geoanalytics) (0.6)\n",
            "Requirement already satisfied: scikit-learn in /usr/local/lib/python3.11/dist-packages (from geoanalytics) (1.6.1)\n",
            "Requirement already satisfied: plotly in /usr/local/lib/python3.11/dist-packages (from geoanalytics) (5.24.1)\n",
            "Requirement already satisfied: Pillow in /usr/local/lib/python3.11/dist-packages (from geoanalytics) (11.2.1)\n",
            "Requirement already satisfied: numpy in /usr/local/lib/python3.11/dist-packages (from geoanalytics) (2.0.2)\n",
            "Requirement already satisfied: sphinx in /usr/local/lib/python3.11/dist-packages (from geoanalytics) (8.2.3)\n",
            "Requirement already satisfied: sphinx-rtd-theme in /usr/local/lib/python3.11/dist-packages (from geoanalytics) (3.0.2)\n",
            "Requirement already satisfied: discord.py in /usr/local/lib/python3.11/dist-packages (from geoanalytics) (2.5.2)\n",
            "Requirement already satisfied: networkx in /usr/local/lib/python3.11/dist-packages (from geoanalytics) (3.5)\n",
            "Requirement already satisfied: deprecated in /usr/local/lib/python3.11/dist-packages (from geoanalytics) (1.2.18)\n",
            "Requirement already satisfied: fastparquet in /usr/local/lib/python3.11/dist-packages (from geoanalytics) (2024.11.0)\n",
            "Requirement already satisfied: numba in /usr/local/lib/python3.11/dist-packages (from geoanalytics) (0.60.0)\n",
            "Requirement already satisfied: pami in /usr/local/lib/python3.11/dist-packages (from geoanalytics) (2025.3.25.1)\n",
            "Requirement already satisfied: rasterio in /usr/local/lib/python3.11/dist-packages (from geoanalytics) (1.4.3)\n",
            "Requirement already satisfied: wrapt<2,>=1.10 in /usr/local/lib/python3.11/dist-packages (from deprecated->geoanalytics) (1.17.2)\n",
            "Requirement already satisfied: aiohttp<4,>=3.7.4 in /usr/local/lib/python3.11/dist-packages (from discord.py->geoanalytics) (3.11.15)\n",
            "Requirement already satisfied: cramjam>=2.3 in /usr/local/lib/python3.11/dist-packages (from fastparquet->geoanalytics) (2.10.0)\n",
            "Requirement already satisfied: fsspec in /usr/local/lib/python3.11/dist-packages (from fastparquet->geoanalytics) (2025.3.2)\n",
            "Requirement already satisfied: packaging in /usr/local/lib/python3.11/dist-packages (from fastparquet->geoanalytics) (24.2)\n",
            "Requirement already satisfied: python-dateutil>=2.8.2 in /usr/local/lib/python3.11/dist-packages (from pandas->geoanalytics) (2.9.0.post0)\n",
            "Requirement already satisfied: pytz>=2020.1 in /usr/local/lib/python3.11/dist-packages (from pandas->geoanalytics) (2025.2)\n",
            "Requirement already satisfied: tzdata>=2022.7 in /usr/local/lib/python3.11/dist-packages (from pandas->geoanalytics) (2025.2)\n",
            "Requirement already satisfied: contourpy>=1.0.1 in /usr/local/lib/python3.11/dist-packages (from matplotlib->geoanalytics) (1.3.2)\n",
            "Requirement already satisfied: cycler>=0.10 in /usr/local/lib/python3.11/dist-packages (from matplotlib->geoanalytics) (0.12.1)\n",
            "Requirement already satisfied: fonttools>=4.22.0 in /usr/local/lib/python3.11/dist-packages (from matplotlib->geoanalytics) (4.58.1)\n",
            "Requirement already satisfied: kiwisolver>=1.3.1 in /usr/local/lib/python3.11/dist-packages (from matplotlib->geoanalytics) (1.4.8)\n",
            "Requirement already satisfied: pyparsing>=2.3.1 in /usr/local/lib/python3.11/dist-packages (from matplotlib->geoanalytics) (3.2.3)\n",
            "Requirement already satisfied: llvmlite<0.44,>=0.43.0dev0 in /usr/local/lib/python3.11/dist-packages (from numba->geoanalytics) (0.43.0)\n",
            "Requirement already satisfied: tenacity>=6.2.0 in /usr/local/lib/python3.11/dist-packages (from plotly->geoanalytics) (9.1.2)\n",
            "Requirement already satisfied: affine in /usr/local/lib/python3.11/dist-packages (from rasterio->geoanalytics) (2.4.0)\n",
            "Requirement already satisfied: attrs in /usr/local/lib/python3.11/dist-packages (from rasterio->geoanalytics) (25.3.0)\n",
            "Requirement already satisfied: certifi in /usr/local/lib/python3.11/dist-packages (from rasterio->geoanalytics) (2025.4.26)\n",
            "Requirement already satisfied: click>=4.0 in /usr/local/lib/python3.11/dist-packages (from rasterio->geoanalytics) (8.2.1)\n",
            "Requirement already satisfied: cligj>=0.5 in /usr/local/lib/python3.11/dist-packages (from rasterio->geoanalytics) (0.7.2)\n",
            "Requirement already satisfied: click-plugins in /usr/local/lib/python3.11/dist-packages (from rasterio->geoanalytics) (1.1.1)\n",
            "Requirement already satisfied: JsonForm>=0.0.2 in /usr/local/lib/python3.11/dist-packages (from resource->geoanalytics) (0.0.2)\n",
            "Requirement already satisfied: JsonSir>=0.0.2 in /usr/local/lib/python3.11/dist-packages (from resource->geoanalytics) (0.0.2)\n",
            "Requirement already satisfied: python-easyconfig>=0.1.0 in /usr/local/lib/python3.11/dist-packages (from resource->geoanalytics) (0.1.7)\n",
            "Requirement already satisfied: scipy>=1.6.0 in /usr/local/lib/python3.11/dist-packages (from scikit-learn->geoanalytics) (1.15.3)\n",
            "Requirement already satisfied: joblib>=1.2.0 in /usr/local/lib/python3.11/dist-packages (from scikit-learn->geoanalytics) (1.5.1)\n",
            "Requirement already satisfied: threadpoolctl>=3.1.0 in /usr/local/lib/python3.11/dist-packages (from scikit-learn->geoanalytics) (3.6.0)\n",
            "Requirement already satisfied: sphinxcontrib-applehelp>=1.0.7 in /usr/local/lib/python3.11/dist-packages (from sphinx->geoanalytics) (2.0.0)\n",
            "Requirement already satisfied: sphinxcontrib-devhelp>=1.0.6 in /usr/local/lib/python3.11/dist-packages (from sphinx->geoanalytics) (2.0.0)\n",
            "Requirement already satisfied: sphinxcontrib-htmlhelp>=2.0.6 in /usr/local/lib/python3.11/dist-packages (from sphinx->geoanalytics) (2.1.0)\n",
            "Requirement already satisfied: sphinxcontrib-jsmath>=1.0.1 in /usr/local/lib/python3.11/dist-packages (from sphinx->geoanalytics) (1.0.1)\n",
            "Requirement already satisfied: sphinxcontrib-qthelp>=1.0.6 in /usr/local/lib/python3.11/dist-packages (from sphinx->geoanalytics) (2.0.0)\n",
            "Requirement already satisfied: sphinxcontrib-serializinghtml>=1.1.9 in /usr/local/lib/python3.11/dist-packages (from sphinx->geoanalytics) (2.0.0)\n",
            "Requirement already satisfied: Jinja2>=3.1 in /usr/local/lib/python3.11/dist-packages (from sphinx->geoanalytics) (3.1.6)\n",
            "Requirement already satisfied: Pygments>=2.17 in /usr/local/lib/python3.11/dist-packages (from sphinx->geoanalytics) (2.19.1)\n",
            "Requirement already satisfied: docutils<0.22,>=0.20 in /usr/local/lib/python3.11/dist-packages (from sphinx->geoanalytics) (0.21.2)\n",
            "Requirement already satisfied: snowballstemmer>=2.2 in /usr/local/lib/python3.11/dist-packages (from sphinx->geoanalytics) (3.0.1)\n",
            "Requirement already satisfied: babel>=2.13 in /usr/local/lib/python3.11/dist-packages (from sphinx->geoanalytics) (2.17.0)\n",
            "Requirement already satisfied: alabaster>=0.7.14 in /usr/local/lib/python3.11/dist-packages (from sphinx->geoanalytics) (1.0.0)\n",
            "Requirement already satisfied: imagesize>=1.3 in /usr/local/lib/python3.11/dist-packages (from sphinx->geoanalytics) (1.4.1)\n",
            "Requirement already satisfied: requests>=2.30.0 in /usr/local/lib/python3.11/dist-packages (from sphinx->geoanalytics) (2.32.3)\n",
            "Requirement already satisfied: roman-numerals-py>=1.0.0 in /usr/local/lib/python3.11/dist-packages (from sphinx->geoanalytics) (3.1.0)\n",
            "Requirement already satisfied: sphinxcontrib-jquery<5,>=4 in /usr/local/lib/python3.11/dist-packages (from sphinx-rtd-theme->geoanalytics) (4.1)\n",
            "Requirement already satisfied: aiohappyeyeballs>=2.3.0 in /usr/local/lib/python3.11/dist-packages (from aiohttp<4,>=3.7.4->discord.py->geoanalytics) (2.6.1)\n",
            "Requirement already satisfied: aiosignal>=1.1.2 in /usr/local/lib/python3.11/dist-packages (from aiohttp<4,>=3.7.4->discord.py->geoanalytics) (1.3.2)\n",
            "Requirement already satisfied: frozenlist>=1.1.1 in /usr/local/lib/python3.11/dist-packages (from aiohttp<4,>=3.7.4->discord.py->geoanalytics) (1.6.0)\n",
            "Requirement already satisfied: multidict<7.0,>=4.5 in /usr/local/lib/python3.11/dist-packages (from aiohttp<4,>=3.7.4->discord.py->geoanalytics) (6.4.4)\n",
            "Requirement already satisfied: propcache>=0.2.0 in /usr/local/lib/python3.11/dist-packages (from aiohttp<4,>=3.7.4->discord.py->geoanalytics) (0.3.1)\n",
            "Requirement already satisfied: yarl<2.0,>=1.17.0 in /usr/local/lib/python3.11/dist-packages (from aiohttp<4,>=3.7.4->discord.py->geoanalytics) (1.20.0)\n",
            "Requirement already satisfied: MarkupSafe>=2.0 in /usr/local/lib/python3.11/dist-packages (from Jinja2>=3.1->sphinx->geoanalytics) (3.0.2)\n",
            "Requirement already satisfied: jsonschema in /usr/local/lib/python3.11/dist-packages (from JsonForm>=0.0.2->resource->geoanalytics) (4.24.0)\n",
            "Requirement already satisfied: six>=1.5 in /usr/local/lib/python3.11/dist-packages (from python-dateutil>=2.8.2->pandas->geoanalytics) (1.17.0)\n",
            "Requirement already satisfied: PyYAML in /usr/local/lib/python3.11/dist-packages (from python-easyconfig>=0.1.0->resource->geoanalytics) (6.0.2)\n",
            "Requirement already satisfied: charset-normalizer<4,>=2 in /usr/local/lib/python3.11/dist-packages (from requests>=2.30.0->sphinx->geoanalytics) (3.4.2)\n",
            "Requirement already satisfied: idna<4,>=2.5 in /usr/local/lib/python3.11/dist-packages (from requests>=2.30.0->sphinx->geoanalytics) (3.10)\n",
            "Requirement already satisfied: jsonschema-specifications>=2023.03.6 in /usr/local/lib/python3.11/dist-packages (from jsonschema->JsonForm>=0.0.2->resource->geoanalytics) (2025.4.1)\n",
            "Requirement already satisfied: referencing>=0.28.4 in /usr/local/lib/python3.11/dist-packages (from jsonschema->JsonForm>=0.0.2->resource->geoanalytics) (0.36.2)\n",
            "Requirement already satisfied: rpds-py>=0.7.1 in /usr/local/lib/python3.11/dist-packages (from jsonschema->JsonForm>=0.0.2->resource->geoanalytics) (0.25.1)\n",
            "Requirement already satisfied: typing-extensions>=4.4.0 in /usr/local/lib/python3.11/dist-packages (from referencing>=0.28.4->jsonschema->JsonForm>=0.0.2->resource->geoanalytics) (4.14.0)\n"
          ]
        }
      ],
      "source": [
        "!pip install -U geoanalytics"
      ]
    },
    {
      "cell_type": "markdown",
      "metadata": {
        "id": "DzisnT4f7RXk"
      },
      "source": [
        "# Knowing the information of geoAnalytics package"
      ]
    },
    {
      "cell_type": "code",
      "execution_count": 11,
      "metadata": {
        "colab": {
          "base_uri": "https://localhost:8080/"
        },
        "id": "nmZ3z3ZY7S1K",
        "outputId": "a46e430a-907d-4645-941e-7f32e40dad4b"
      },
      "outputs": [
        {
          "output_type": "stream",
          "name": "stdout",
          "text": [
            "Name: geoanalytics\n",
            "Version: 2025.6.12.3\n",
            "Summary: This software is being developed at the University of Aizu, Aizu-Wakamatsu, Fukushima, Japan\n",
            "Home-page: https://github.com/UdayLab/geoanalytics\n",
            "Author: \n",
            "Author-email: Rage Uday Kiran <uday.rage@gmail.com>\n",
            "License: GPLv3\n",
            "Location: /usr/local/lib/python3.11/dist-packages\n",
            "Requires: deprecated, discord.py, fastparquet, matplotlib, mplcursors, networkx, numba, numpy, pami, pandas, Pillow, plotly, psutil, psycopg2-binary, rasterio, resource, scikit-learn, shapely, sphinx, sphinx-rtd-theme, tqdm, urllib3, validators\n",
            "Required-by: \n"
          ]
        }
      ],
      "source": [
        "pip show geoanalytics"
      ]
    },
    {
      "cell_type": "markdown",
      "metadata": {
        "id": "2Ondv0PG7Xj7"
      },
      "source": [
        "## Download any dataset with extension of both .img and .lbl from the below link"
      ]
    },
    {
      "cell_type": "markdown",
      "metadata": {
        "id": "XGvA6TTp7cRF"
      },
      "source": [
        "Link --> https://data.darts.isas.jaxa.jp/pub/pds3/sln-l-mi-5-map-v3.0/\n",
        "\n",
        "Example Direction : --> https://data.darts.isas.jaxa.jp/pub/pds3/sln-l-mi-5-map-v3.0/lon035/data/"
      ]
    },
    {
      "cell_type": "markdown",
      "metadata": {
        "id": "uf88uNcz7fh3"
      },
      "source": [
        "## Use !wget command to download the `.img` and `.lbl` files"
      ]
    },
    {
      "cell_type": "code",
      "execution_count": 12,
      "metadata": {
        "colab": {
          "base_uri": "https://localhost:8080/"
        },
        "id": "jx_Fgif26tL9",
        "outputId": "d4731739-8224-46ac-d077-70efbbe75c0b"
      },
      "outputs": [
        {
          "output_type": "stream",
          "name": "stdout",
          "text": [
            "--2025-06-12 06:53:07--  https://data.darts.isas.jaxa.jp/pub/pds3/sln-l-mi-5-map-v3.0/lon035/data/MI_MAP_03_S16E035S17E036SC.img\n",
            "Resolving data.darts.isas.jaxa.jp (data.darts.isas.jaxa.jp)... 159.60.133.108\n",
            "Connecting to data.darts.isas.jaxa.jp (data.darts.isas.jaxa.jp)|159.60.133.108|:443... connected.\n",
            "HTTP request sent, awaiting response... 503 Service Unavailable\n",
            "2025-06-12 06:53:07 ERROR 503: Service Unavailable.\n",
            "\n"
          ]
        }
      ],
      "source": [
        "# Download any files by using the wget command\n",
        "!wget https://data.darts.isas.jaxa.jp/pub/pds3/sln-l-mi-5-map-v3.0/lon035/data/MI_MAP_03_S16E035S17E036SC.img"
      ]
    },
    {
      "cell_type": "code",
      "execution_count": 13,
      "metadata": {
        "colab": {
          "base_uri": "https://localhost:8080/"
        },
        "id": "Pr3LtTXU6u9z",
        "outputId": "f49ee9b8-6abb-4546-e90e-f7d7e1216648"
      },
      "outputs": [
        {
          "output_type": "stream",
          "name": "stdout",
          "text": [
            "--2025-06-12 06:53:07--  https://data.darts.isas.jaxa.jp/pub/pds3/sln-l-mi-5-map-v3.0/lon035/data/MI_MAP_03_S16E035S17E036SC.lbl\n",
            "Resolving data.darts.isas.jaxa.jp (data.darts.isas.jaxa.jp)... 159.60.133.108\n",
            "Connecting to data.darts.isas.jaxa.jp (data.darts.isas.jaxa.jp)|159.60.133.108|:443... connected.\n",
            "HTTP request sent, awaiting response... 503 Service Unavailable\n",
            "2025-06-12 06:53:08 ERROR 503: Service Unavailable.\n",
            "\n"
          ]
        }
      ],
      "source": [
        "!wget https://data.darts.isas.jaxa.jp/pub/pds3/sln-l-mi-5-map-v3.0/lon035/data/MI_MAP_03_S16E035S17E036SC.lbl"
      ]
    },
    {
      "cell_type": "markdown",
      "metadata": {
        "id": "FRpsZML98DDa"
      },
      "source": [
        "# **Operatioin 1: Raster to CSV**"
      ]
    },
    {
      "cell_type": "markdown",
      "metadata": {
        "id": "32ffvCN48Hcv"
      },
      "source": [
        "## ***Step1: Import RasterToTSV package from geoAnalytics.conversion***"
      ]
    },
    {
      "cell_type": "code",
      "execution_count": 14,
      "metadata": {
        "id": "nqUs2YMG6x2p"
      },
      "outputs": [],
      "source": [
        "# Import Raster To TSV package\n",
        "from geoanalytics.conversion import Raster2CSV"
      ]
    },
    {
      "cell_type": "markdown",
      "metadata": {
        "id": "SKp_KIvn8UQ9"
      },
      "source": [
        "## ***Step2: Pass the lbl file as input and give desired outputFile name also specify the inputband value as well as ouput band value***"
      ]
    },
    {
      "cell_type": "code",
      "execution_count": 15,
      "metadata": {
        "id": "QoxjyzNk8Mmf"
      },
      "outputs": [],
      "source": [
        "# Specify startBand = 1\n",
        "# Specify endBand = 9\n",
        "converter = Raster2CSV.Raster2CSV(inputFile='MI_MAP_03_S16E035S17E036SC.lbl', outputFile='Moon.csv', startBand=1, endBand=9)"
      ]
    },
    {
      "cell_type": "markdown",
      "metadata": {
        "id": "HnH9s5zT8akK"
      },
      "source": [
        "## ***Step3: Conver the raster file into a CSV file***"
      ]
    },
    {
      "cell_type": "code",
      "execution_count": 16,
      "metadata": {
        "id": "4TlrzcYk8QXd",
        "colab": {
          "base_uri": "https://localhost:8080/",
          "height": 124
        },
        "outputId": "35001150-b494-4d9d-b2d6-3d5881beb8bd"
      },
      "outputs": [
        {
          "output_type": "stream",
          "name": "stdout",
          "text": [
            "Processing: MI_MAP_03_S16E035S17E036SC.lbl\n",
            "Could not open MI_MAP_03_S16E035S17E036SC.lbl.\n"
          ]
        },
        {
          "output_type": "error",
          "ename": "SystemExit",
          "evalue": "1",
          "traceback": [
            "An exception has occurred, use %tb to see the full traceback.\n",
            "\u001b[0;31mSystemExit\u001b[0m\u001b[0;31m:\u001b[0m 1\n"
          ]
        }
      ],
      "source": [
        "# convert using run() method\n",
        "converter.run()"
      ]
    },
    {
      "cell_type": "markdown",
      "metadata": {
        "id": "NxbGRHyy8fwV"
      },
      "source": [
        "# **Operation 2 : Clustering the Data**"
      ]
    },
    {
      "cell_type": "markdown",
      "metadata": {
        "id": "qQJSfiwH8iyu"
      },
      "source": [
        "## ***Step 1: Read the obtained CSV into a dataframe***"
      ]
    },
    {
      "cell_type": "code",
      "execution_count": null,
      "metadata": {
        "id": "gPDE0nR68RsP"
      },
      "outputs": [],
      "source": [
        "# import pandas\n",
        "import pandas as pd\n",
        "# read the dataframe with separator as \"tab\" space\n",
        "df = pd.read_csv('Moon.csv', sep='\\t')\n",
        "# show the dataframe\n",
        "df"
      ]
    },
    {
      "cell_type": "markdown",
      "metadata": {
        "id": "ZIGz_Cmu8pIe"
      },
      "source": [
        "## ***Step2: Import any clustering algorithm from geoanalytics.clustering***"
      ]
    },
    {
      "cell_type": "code",
      "execution_count": null,
      "metadata": {
        "id": "o4Slb_Xc8mL5"
      },
      "outputs": [],
      "source": [
        "# Import the Gaussianmixture algorithm\n",
        "from geoanalytics.clustering import Gaussianmixture\n",
        "# Pass the dataframe into the clustering algorithm\n",
        "obj = Gaussianmixture.Gaussianmixture(dataframe=df)"
      ]
    },
    {
      "cell_type": "markdown",
      "metadata": {
        "id": "Z-FxGZvj8vpq"
      },
      "source": [
        "## ***Step3: Execute the run() method to cluster the data***"
      ]
    },
    {
      "cell_type": "markdown",
      "metadata": {
        "id": "ELaB3nRe8zPW"
      },
      "source": [
        "### ***Also specify the parameters such as `n_components`, `max_iters` and `random_state` etc,.***"
      ]
    },
    {
      "cell_type": "code",
      "execution_count": null,
      "metadata": {
        "id": "qLbUcXe_8s3S"
      },
      "outputs": [],
      "source": [
        "# Assign \"labels\", \"weights\" and \"means\" as output variable names. Since our algorithm is going to return three components respectively\n",
        "labels, weights, means = obj.run(n_components=4, max_iters=100, covariance_type=\"full\", init_params='kmeans', random_state=0)"
      ]
    },
    {
      "cell_type": "markdown",
      "metadata": {
        "id": "V1jBgpPo9FcO"
      },
      "source": [
        "## ***Step4: Print the labels***"
      ]
    },
    {
      "cell_type": "code",
      "execution_count": null,
      "metadata": {
        "id": "PQdlUput9KeN"
      },
      "outputs": [],
      "source": [
        "labels"
      ]
    },
    {
      "cell_type": "markdown",
      "metadata": {
        "id": "y3NYdPIN9FZZ"
      },
      "source": [
        "## ***Step5: Print the weights***"
      ]
    },
    {
      "cell_type": "code",
      "execution_count": null,
      "metadata": {
        "id": "CRiMi4-D9Pxp"
      },
      "outputs": [],
      "source": [
        "weights"
      ]
    },
    {
      "cell_type": "markdown",
      "metadata": {
        "id": "16eGQ3Ih9FWG"
      },
      "source": [
        "## ***Step6: Print the means***"
      ]
    },
    {
      "cell_type": "code",
      "execution_count": null,
      "metadata": {
        "id": "RGcFmRTA9CY1"
      },
      "outputs": [],
      "source": [
        "means"
      ]
    },
    {
      "cell_type": "markdown",
      "metadata": {
        "id": "ZMkXBWdw9X0L"
      },
      "source": [
        "## ***Step7: To know the run time and memory consumption of Algorithm, print the statistical values***"
      ]
    },
    {
      "cell_type": "code",
      "execution_count": null,
      "metadata": {
        "id": "n7FtISIv9V1v"
      },
      "outputs": [],
      "source": [
        "# Get the run time\n",
        "obj.getRuntime()\n",
        "# Get the Memory in RSS\n",
        "obj.getMemoryRSS()\n",
        "# Get the memory in USS\n",
        "obj.getMemoryUSS()"
      ]
    },
    {
      "cell_type": "markdown",
      "metadata": {
        "id": "1bWoLC8B9eMH"
      },
      "source": [
        "## ***Step8: Save the labels, weights and means***"
      ]
    },
    {
      "cell_type": "code",
      "execution_count": null,
      "metadata": {
        "id": "U-r1tMsK9cJ8"
      },
      "outputs": [],
      "source": [
        "# Specify the output names for labels, weights and Means respectively\n",
        "obj.save(outputFileLabels='GaussianMixtureLabels.csv', outputFileWeights='GaussianMixtureWeights.csv', outputFileMeans='GaussianMixtureMeans.csv')"
      ]
    },
    {
      "cell_type": "markdown",
      "metadata": {
        "id": "Myxi0VFe9kvh"
      },
      "source": [
        "# **Operation3: CSV to Raster**"
      ]
    },
    {
      "cell_type": "markdown",
      "metadata": {
        "id": "WYGkk_IS9n7L"
      },
      "source": [
        "## ***Step1: Import CSV2Raster from geoanalytics.conversion***"
      ]
    },
    {
      "cell_type": "code",
      "execution_count": null,
      "metadata": {
        "id": "7cM7mMmr9hh2"
      },
      "outputs": [],
      "source": [
        "from geoanalytics.conversion import CSV2Raster as CSV2Raster"
      ]
    },
    {
      "cell_type": "markdown",
      "metadata": {
        "id": "YLBgjkQV9vzt"
      },
      "source": [
        "## ***Step2: Pass the dataFrame and give desired outputFile name***"
      ]
    },
    {
      "cell_type": "code",
      "execution_count": null,
      "metadata": {
        "id": "qnSIWLX09rcU"
      },
      "outputs": [],
      "source": [
        "# Pass the labels as a dataframe\n",
        "process = CSV2Raster.CSV2Raster(dataframe=labels,outputFile='GaussianMixture.tiff')"
      ]
    },
    {
      "cell_type": "markdown",
      "metadata": {
        "id": "PNSyzLxq93Bf"
      },
      "source": [
        "## **Step3: Execute the run() method**"
      ]
    },
    {
      "cell_type": "code",
      "execution_count": null,
      "metadata": {
        "id": "tgmqbwcF91O_"
      },
      "outputs": [],
      "source": [
        "process.run()"
      ]
    },
    {
      "cell_type": "markdown",
      "metadata": {
        "id": "OWWW2-VD-HoI"
      },
      "source": [
        "# **Operation 4: Visualization**"
      ]
    },
    {
      "cell_type": "markdown",
      "metadata": {
        "id": "NJmA_njK-MLO"
      },
      "source": [
        "## ***Step1: Import TiffViewer from geoanalytics.visualization***"
      ]
    },
    {
      "cell_type": "code",
      "execution_count": null,
      "metadata": {
        "id": "Zd51fq_o-Ph9"
      },
      "outputs": [],
      "source": [
        "# Import the TiffViewer module\n",
        "from geoanalytics.visualization import TiffViewer"
      ]
    },
    {
      "cell_type": "markdown",
      "metadata": {
        "id": "qJRvY6G--T-_"
      },
      "source": [
        "## ***Step2: Input the RasterFile or pass it into the parameter***"
      ]
    },
    {
      "cell_type": "code",
      "execution_count": null,
      "metadata": {
        "id": "qjvA0Kyx-Sa6"
      },
      "outputs": [],
      "source": [
        "viewer = TiffViewer.TiffViewer(inputFile='GaussianMixture.tiff')"
      ]
    },
    {
      "cell_type": "markdown",
      "metadata": {
        "id": "_3ocCECM-X3y"
      },
      "source": [
        "## ***Step3: Display the image with desired scaling map***"
      ]
    },
    {
      "cell_type": "markdown",
      "metadata": {
        "id": "m7aXFqZf-b6O"
      },
      "source": [
        "##### ***1. gray scale***"
      ]
    },
    {
      "cell_type": "code",
      "execution_count": null,
      "metadata": {
        "id": "Q68ZFnG_-WlB"
      },
      "outputs": [],
      "source": [
        "# Specify  the cmap --> \"gray\" & title --> (Optional)\n",
        "viewer.run(cmap='gray', title='TIFF Image')"
      ]
    },
    {
      "cell_type": "markdown",
      "metadata": {
        "id": "f43lwoGz-hUa"
      },
      "source": [
        "##### ***2. Jet Scale***"
      ]
    },
    {
      "cell_type": "code",
      "execution_count": null,
      "metadata": {
        "id": "Jb3ULox9-fhc"
      },
      "outputs": [],
      "source": [
        "# Specify  the cmap --> \"jet\" & title --> (Optional)\n",
        "viewer.run(cmap='jet', title='TIFF Image')"
      ]
    },
    {
      "cell_type": "markdown",
      "metadata": {
        "id": "Jk2Kz5ny-nxD"
      },
      "source": [
        "# **Operation 4: Pattern Mining**"
      ]
    },
    {
      "cell_type": "markdown",
      "metadata": {
        "id": "FAWX9N96-swd"
      },
      "source": [
        "## ***Step1: Converting Raster Dataframe into a Database***"
      ]
    },
    {
      "cell_type": "code",
      "execution_count": null,
      "metadata": {
        "id": "tGMh4gaR_ERx"
      },
      "outputs": [],
      "source": [
        "# Install PAMI library for Pattern Mining\n",
        "!pip install PAMI"
      ]
    },
    {
      "cell_type": "markdown",
      "source": [
        "#### ***Reducing the size of our dataframe***\n",
        "#### ***Because it will consume a lot of time and memory***"
      ],
      "metadata": {
        "id": "5T8UVw4Ik1f-"
      }
    },
    {
      "cell_type": "code",
      "source": [
        "# Select only the first 1000 pixels in the Raster File\n",
        "df = df.iloc[:1000,:]"
      ],
      "metadata": {
        "id": "v1sdevmEkc97"
      },
      "execution_count": null,
      "outputs": []
    },
    {
      "cell_type": "markdown",
      "metadata": {
        "id": "BosmkOhDC34M"
      },
      "source": [
        "### ***Step 1.1: Import RasterDF2DB from geoanalytics.conversion***"
      ]
    },
    {
      "cell_type": "code",
      "execution_count": null,
      "metadata": {
        "id": "CKc20Z_6-keO"
      },
      "outputs": [],
      "source": [
        "from geoanalytics.conversion import RasterDF2DB"
      ]
    },
    {
      "cell_type": "code",
      "execution_count": null,
      "metadata": {
        "id": "R0HTYMTF_BPP"
      },
      "outputs": [],
      "source": [
        "# Pass the dataframe as input dataframe\n",
        "obj = RasterDF2DB.RasterDF2DB(dataframe=df)"
      ]
    },
    {
      "cell_type": "markdown",
      "source": [
        "### ***Step 1.2: Prepare the Transactional Dataframe***"
      ],
      "metadata": {
        "id": "CVJxRUvslI22"
      }
    },
    {
      "cell_type": "code",
      "execution_count": null,
      "metadata": {
        "id": "pFCcUxKh_Sy_"
      },
      "outputs": [],
      "source": [
        "obj.prepareTransactionalDataframe()"
      ]
    },
    {
      "cell_type": "markdown",
      "source": [
        "### ***Step 1.3: Give the desired output  `DBname` and `condition` along with `thresholdValue`***"
      ],
      "metadata": {
        "id": "j6Axcms3qaXG"
      }
    },
    {
      "cell_type": "code",
      "execution_count": null,
      "metadata": {
        "id": "YqyfTgd-_VDU"
      },
      "outputs": [],
      "source": [
        "# Select the pixels which has their band value more than or equal to 4000\n",
        "obj.convertToTransactionalDB(DBname='transactionalDB.csv', condition='>=', thresholdValue=4000)"
      ]
    },
    {
      "cell_type": "markdown",
      "source": [
        "##### **Print the head of the Transactional Database**"
      ],
      "metadata": {
        "id": "_AminpR5q6DS"
      }
    },
    {
      "cell_type": "code",
      "execution_count": null,
      "metadata": {
        "id": "J-9Cd-G-A24t"
      },
      "outputs": [],
      "source": [
        "!head transactionalDB.csv"
      ]
    },
    {
      "cell_type": "markdown",
      "source": [
        "## ***Step 2: Import the FrequentPatternMining from `geoanalytics.patternmining`***"
      ],
      "metadata": {
        "id": "L2cSivwardCu"
      }
    },
    {
      "cell_type": "code",
      "execution_count": null,
      "metadata": {
        "id": "iYk_dk5BAeiZ"
      },
      "outputs": [],
      "source": [
        "from geoanalytics.patternMining import FrequentPatternMining"
      ]
    },
    {
      "cell_type": "markdown",
      "source": [
        "## ***Step 3: Pass the `inputFile` into the algorithm***"
      ],
      "metadata": {
        "id": "ukQUmvZBrzEL"
      }
    },
    {
      "cell_type": "code",
      "execution_count": null,
      "metadata": {
        "id": "L4bmf8w2AyBP"
      },
      "outputs": [],
      "source": [
        "alg = FrequentPatternMining.FrequentPatternMining(inputFile='transactionalDB.csv')"
      ]
    },
    {
      "cell_type": "markdown",
      "source": [
        "## ***Step 4: Show the database statistics to know the appropriate parameters to mine the patterns***"
      ],
      "metadata": {
        "id": "o7czZPvksCKb"
      }
    },
    {
      "cell_type": "code",
      "execution_count": null,
      "metadata": {
        "id": "6TbTZB-WCRXJ"
      },
      "outputs": [],
      "source": [
        "# Get to know the database statistics and visualization of frequency and transaction length graphs\n",
        "alg.showDBstats()"
      ]
    },
    {
      "cell_type": "markdown",
      "source": [
        "## ***Step 5: Specify the parameter `minSupport` to mine the patterns in database***"
      ],
      "metadata": {
        "id": "gzcLY39PsUAY"
      }
    },
    {
      "cell_type": "code",
      "execution_count": null,
      "metadata": {
        "id": "nieSj4mfCVYc"
      },
      "outputs": [],
      "source": [
        "# More Minimum Support --> less Patterns\n",
        "# Less Minimum Support --> More Patterns\n",
        "alg.run(minSupport=8)"
      ]
    },
    {
      "cell_type": "markdown",
      "source": [
        "## ***Step 6: Save the patterns***"
      ],
      "metadata": {
        "id": "G9Dqwsf4uhXu"
      }
    },
    {
      "cell_type": "code",
      "execution_count": null,
      "metadata": {
        "id": "uF0Qz56-CkJ7"
      },
      "outputs": [],
      "source": [
        "alg.save(outputFile='FrequentPatterns.txt')"
      ]
    },
    {
      "cell_type": "markdown",
      "source": [
        "#### **View the saved frequent patterns**"
      ],
      "metadata": {
        "id": "9bbjdCensUTZ"
      }
    },
    {
      "cell_type": "code",
      "execution_count": null,
      "metadata": {
        "id": "jx72N4VbCoqg"
      },
      "outputs": [],
      "source": [
        "!head FrequentPatterns.txt"
      ]
    },
    {
      "cell_type": "code",
      "source": [],
      "metadata": {
        "id": "NOAIGBAWEEyN"
      },
      "execution_count": null,
      "outputs": []
    }
  ],
  "metadata": {
    "colab": {
      "provenance": [],
      "include_colab_link": true
    },
    "kernelspec": {
      "display_name": "Python 3",
      "name": "python3"
    },
    "language_info": {
      "name": "python"
    }
  },
  "nbformat": 4,
  "nbformat_minor": 0
}